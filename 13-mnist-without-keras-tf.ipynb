{
  "cells": [
    {
      "cell_type": "code",
      "source": [
        "from keras.datasets import mnist\n",
        "from keras.utils import to_categorical\n",
        "import numpy as np\n",
        "import math\n",
        "import matplotlib.pyplot as plt\n",
        "\n",
        "# load data\n",
        "(train_x, train_y), (test_x, test_y) = mnist.load_data()\n",
        "\n",
        "# split data\n",
        "num_data = 500\n",
        "train_x = train_x[:num_data]\n",
        "train_y = train_y[:num_data]\n",
        "\n",
        "\n",
        "# preprocess (one hot encoding)\n",
        "np.set_printoptions(linewidth=200)\n",
        "print('Before preprocess x \\n', np.array(train_x[0]), '\\n')\n",
        "print('Before preprocess y \\n', np.array(train_y[0]), '\\n')\n",
        "\n",
        "x = np.array([[[1 if dd > 0 else 0 for dd in m] for m in x] for x in train_x]) # change value to 1 if member train_x value more than 0\n",
        "y = to_categorical(train_y)\n",
        "\n",
        "print('After preprocess \\n', np.array(x[0]))\n",
        "print('After preprocess y \\n', np.array(y[0]))\n",
        "\n",
        "x = np.array([x.flatten() for x in x])"
      ],
      "metadata": {
        "id": "9EbFjMSH9iW4",
        "colab": {
          "base_uri": "https://localhost:8080/"
        },
        "outputId": "e99d0028-5c77-4f86-d074-b1c25abe4db1"
      },
      "execution_count": 4,
      "outputs": [
        {
          "output_type": "stream",
          "name": "stdout",
          "text": [
            "Before preprocess x \n",
            " [[  0   0   0   0   0   0   0   0   0   0   0   0   0   0   0   0   0   0   0   0   0   0   0   0   0   0   0   0]\n",
            " [  0   0   0   0   0   0   0   0   0   0   0   0   0   0   0   0   0   0   0   0   0   0   0   0   0   0   0   0]\n",
            " [  0   0   0   0   0   0   0   0   0   0   0   0   0   0   0   0   0   0   0   0   0   0   0   0   0   0   0   0]\n",
            " [  0   0   0   0   0   0   0   0   0   0   0   0   0   0   0   0   0   0   0   0   0   0   0   0   0   0   0   0]\n",
            " [  0   0   0   0   0   0   0   0   0   0   0   0   0   0   0   0   0   0   0   0   0   0   0   0   0   0   0   0]\n",
            " [  0   0   0   0   0   0   0   0   0   0   0   0   3  18  18  18 126 136 175  26 166 255 247 127   0   0   0   0]\n",
            " [  0   0   0   0   0   0   0   0  30  36  94 154 170 253 253 253 253 253 225 172 253 242 195  64   0   0   0   0]\n",
            " [  0   0   0   0   0   0   0  49 238 253 253 253 253 253 253 253 253 251  93  82  82  56  39   0   0   0   0   0]\n",
            " [  0   0   0   0   0   0   0  18 219 253 253 253 253 253 198 182 247 241   0   0   0   0   0   0   0   0   0   0]\n",
            " [  0   0   0   0   0   0   0   0  80 156 107 253 253 205  11   0  43 154   0   0   0   0   0   0   0   0   0   0]\n",
            " [  0   0   0   0   0   0   0   0   0  14   1 154 253  90   0   0   0   0   0   0   0   0   0   0   0   0   0   0]\n",
            " [  0   0   0   0   0   0   0   0   0   0   0 139 253 190   2   0   0   0   0   0   0   0   0   0   0   0   0   0]\n",
            " [  0   0   0   0   0   0   0   0   0   0   0  11 190 253  70   0   0   0   0   0   0   0   0   0   0   0   0   0]\n",
            " [  0   0   0   0   0   0   0   0   0   0   0   0  35 241 225 160 108   1   0   0   0   0   0   0   0   0   0   0]\n",
            " [  0   0   0   0   0   0   0   0   0   0   0   0   0  81 240 253 253 119  25   0   0   0   0   0   0   0   0   0]\n",
            " [  0   0   0   0   0   0   0   0   0   0   0   0   0   0  45 186 253 253 150  27   0   0   0   0   0   0   0   0]\n",
            " [  0   0   0   0   0   0   0   0   0   0   0   0   0   0   0  16  93 252 253 187   0   0   0   0   0   0   0   0]\n",
            " [  0   0   0   0   0   0   0   0   0   0   0   0   0   0   0   0   0 249 253 249  64   0   0   0   0   0   0   0]\n",
            " [  0   0   0   0   0   0   0   0   0   0   0   0   0   0  46 130 183 253 253 207   2   0   0   0   0   0   0   0]\n",
            " [  0   0   0   0   0   0   0   0   0   0   0   0  39 148 229 253 253 253 250 182   0   0   0   0   0   0   0   0]\n",
            " [  0   0   0   0   0   0   0   0   0   0  24 114 221 253 253 253 253 201  78   0   0   0   0   0   0   0   0   0]\n",
            " [  0   0   0   0   0   0   0   0  23  66 213 253 253 253 253 198  81   2   0   0   0   0   0   0   0   0   0   0]\n",
            " [  0   0   0   0   0   0  18 171 219 253 253 253 253 195  80   9   0   0   0   0   0   0   0   0   0   0   0   0]\n",
            " [  0   0   0   0  55 172 226 253 253 253 253 244 133  11   0   0   0   0   0   0   0   0   0   0   0   0   0   0]\n",
            " [  0   0   0   0 136 253 253 253 212 135 132  16   0   0   0   0   0   0   0   0   0   0   0   0   0   0   0   0]\n",
            " [  0   0   0   0   0   0   0   0   0   0   0   0   0   0   0   0   0   0   0   0   0   0   0   0   0   0   0   0]\n",
            " [  0   0   0   0   0   0   0   0   0   0   0   0   0   0   0   0   0   0   0   0   0   0   0   0   0   0   0   0]\n",
            " [  0   0   0   0   0   0   0   0   0   0   0   0   0   0   0   0   0   0   0   0   0   0   0   0   0   0   0   0]] \n",
            "\n",
            "Before preprocess y \n",
            " 5 \n",
            "\n",
            "After preprocess \n",
            " [[0 0 0 0 0 0 0 0 0 0 0 0 0 0 0 0 0 0 0 0 0 0 0 0 0 0 0 0]\n",
            " [0 0 0 0 0 0 0 0 0 0 0 0 0 0 0 0 0 0 0 0 0 0 0 0 0 0 0 0]\n",
            " [0 0 0 0 0 0 0 0 0 0 0 0 0 0 0 0 0 0 0 0 0 0 0 0 0 0 0 0]\n",
            " [0 0 0 0 0 0 0 0 0 0 0 0 0 0 0 0 0 0 0 0 0 0 0 0 0 0 0 0]\n",
            " [0 0 0 0 0 0 0 0 0 0 0 0 0 0 0 0 0 0 0 0 0 0 0 0 0 0 0 0]\n",
            " [0 0 0 0 0 0 0 0 0 0 0 0 1 1 1 1 1 1 1 1 1 1 1 1 0 0 0 0]\n",
            " [0 0 0 0 0 0 0 0 1 1 1 1 1 1 1 1 1 1 1 1 1 1 1 1 0 0 0 0]\n",
            " [0 0 0 0 0 0 0 1 1 1 1 1 1 1 1 1 1 1 1 1 1 1 1 0 0 0 0 0]\n",
            " [0 0 0 0 0 0 0 1 1 1 1 1 1 1 1 1 1 1 0 0 0 0 0 0 0 0 0 0]\n",
            " [0 0 0 0 0 0 0 0 1 1 1 1 1 1 1 0 1 1 0 0 0 0 0 0 0 0 0 0]\n",
            " [0 0 0 0 0 0 0 0 0 1 1 1 1 1 0 0 0 0 0 0 0 0 0 0 0 0 0 0]\n",
            " [0 0 0 0 0 0 0 0 0 0 0 1 1 1 1 0 0 0 0 0 0 0 0 0 0 0 0 0]\n",
            " [0 0 0 0 0 0 0 0 0 0 0 1 1 1 1 0 0 0 0 0 0 0 0 0 0 0 0 0]\n",
            " [0 0 0 0 0 0 0 0 0 0 0 0 1 1 1 1 1 1 0 0 0 0 0 0 0 0 0 0]\n",
            " [0 0 0 0 0 0 0 0 0 0 0 0 0 1 1 1 1 1 1 0 0 0 0 0 0 0 0 0]\n",
            " [0 0 0 0 0 0 0 0 0 0 0 0 0 0 1 1 1 1 1 1 0 0 0 0 0 0 0 0]\n",
            " [0 0 0 0 0 0 0 0 0 0 0 0 0 0 0 1 1 1 1 1 0 0 0 0 0 0 0 0]\n",
            " [0 0 0 0 0 0 0 0 0 0 0 0 0 0 0 0 0 1 1 1 1 0 0 0 0 0 0 0]\n",
            " [0 0 0 0 0 0 0 0 0 0 0 0 0 0 1 1 1 1 1 1 1 0 0 0 0 0 0 0]\n",
            " [0 0 0 0 0 0 0 0 0 0 0 0 1 1 1 1 1 1 1 1 0 0 0 0 0 0 0 0]\n",
            " [0 0 0 0 0 0 0 0 0 0 1 1 1 1 1 1 1 1 1 0 0 0 0 0 0 0 0 0]\n",
            " [0 0 0 0 0 0 0 0 1 1 1 1 1 1 1 1 1 1 0 0 0 0 0 0 0 0 0 0]\n",
            " [0 0 0 0 0 0 1 1 1 1 1 1 1 1 1 1 0 0 0 0 0 0 0 0 0 0 0 0]\n",
            " [0 0 0 0 1 1 1 1 1 1 1 1 1 1 0 0 0 0 0 0 0 0 0 0 0 0 0 0]\n",
            " [0 0 0 0 1 1 1 1 1 1 1 1 0 0 0 0 0 0 0 0 0 0 0 0 0 0 0 0]\n",
            " [0 0 0 0 0 0 0 0 0 0 0 0 0 0 0 0 0 0 0 0 0 0 0 0 0 0 0 0]\n",
            " [0 0 0 0 0 0 0 0 0 0 0 0 0 0 0 0 0 0 0 0 0 0 0 0 0 0 0 0]\n",
            " [0 0 0 0 0 0 0 0 0 0 0 0 0 0 0 0 0 0 0 0 0 0 0 0 0 0 0 0]]\n",
            "After preprocess y \n",
            " [0. 0. 0. 0. 0. 1. 0. 0. 0. 0.]\n"
          ]
        }
      ]
    },
    {
      "cell_type": "code",
      "source": [
        "# mlp\n",
        "input = x\n",
        "target = y\n",
        "\n",
        "# config\n",
        "num_input = input.shape[1]\n",
        "num_hidden = 30\n",
        "num_output = target.shape[1]\n",
        "\n",
        "# sigmoid func\n",
        "def sigmoid(x):\n",
        "  return 1/(1 + math.exp(-x))\n",
        "\n",
        "sig = np.vectorize(sigmoid)"
      ],
      "metadata": {
        "id": "1J7zkORUOih1"
      },
      "execution_count": 6,
      "outputs": []
    },
    {
      "cell_type": "code",
      "source": [
        "# initialize weight and bias\n",
        "\n",
        "b_hidden = np.random.uniform(low=-1, high=1, size=(num_hidden))\n",
        "w_hidden = np.random.uniform(low=-1, high=1, size=(num_input, num_hidden))\n",
        "\n",
        "print('w_hidden:', w_hidden)\n",
        "print('b_hidden:', b_hidden)\n",
        "print('\\n')\n",
        "\n",
        "b_output = np.random.uniform(low=-1, high=1, size=(num_output))\n",
        "w_output = np.random.uniform(low=-1, high=1, size=(num_hidden, num_output))\n",
        "\n",
        "print('w_output:', w_output)\n",
        "print('b_output:', b_output)"
      ],
      "metadata": {
        "colab": {
          "base_uri": "https://localhost:8080/"
        },
        "id": "7v7kBMMoPI0G",
        "outputId": "bc438ef6-0714-4d72-a09c-518145ba3983"
      },
      "execution_count": 7,
      "outputs": [
        {
          "output_type": "stream",
          "name": "stdout",
          "text": [
            "w_hidden: [[-1.10105921  1.33876416  0.79701496 ... -1.42795032  1.00499773  2.63388975]\n",
            " [ 0.74323731 -2.36783271  2.17251955 ...  1.30343488  1.07295922 -2.65397517]\n",
            " [ 1.77627636 -2.24078257  1.08876232 ... -0.02107196 -2.64686288  2.21802082]\n",
            " ...\n",
            " [ 2.31037972 -0.63850262 -2.34327947 ... -2.17527563  2.59822912 -0.67784686]\n",
            " [ 1.12588806 -1.0142345   1.72269699 ...  2.68854723 -2.73673641 -1.83100721]\n",
            " [ 0.46389232  2.99216883  2.31534231 ... -1.51439684  2.4423046   1.79546742]]\n",
            "b_hidden: [-1.91146228  0.5801747  -2.08373757  1.5147185   0.0647356  -2.47075752 -2.43888343  1.63195488  2.01509913 -1.86217564  2.4990836   0.40947531 -1.2307795   1.78320794  0.75716391 -0.91086459\n",
            "  1.16047216 -0.20189308  1.9136347  -1.96399285  2.81402966  1.8289035  -1.57972789 -2.40574727  2.02464859 -0.6032486   2.01791313  2.60396313  0.37470634 -1.77008253]\n",
            "\n",
            "\n",
            "w_output: [[ 2.00922252 -0.88662764  1.92628029  0.93873662  1.92537676  1.80278828  1.91500643  1.43864596  1.14726396 -0.25708797]\n",
            " [-1.79468286 -2.65443475 -1.29925107 -1.29860271  2.37994775  2.26350244 -2.02990489 -2.0325803  -0.4225379  -2.25259726]\n",
            " [ 2.72035654  0.23573732  2.88087625 -0.6767165  -2.09339358  0.71033139  2.74656121  1.39955686  1.60733778 -0.86082938]\n",
            " [ 2.27604939 -2.87196252  2.6629479   0.99508652 -2.7654093  -2.35632191  0.69652995  0.70016241  0.3667181   0.99659971]\n",
            " [ 0.5142032  -2.64617137 -2.30822895 -1.53854699  1.53370816  1.03664953 -2.72415183 -2.68094255  0.21997769 -1.99779965]\n",
            " [ 2.79676125 -0.35007102  1.4201767  -0.05116258 -2.10591671  0.77576397  1.05144697 -0.9452445  -1.92781666  2.0581284 ]\n",
            " [-2.38434655 -2.88453683  0.83346391 -0.30731449 -1.92279237 -1.20658828 -2.64740784  1.3090494  -0.09903109  2.46261363]\n",
            " [ 1.81691877  2.23628816  0.59688676 -0.47883107 -0.21882176  2.91369928 -2.67475188  1.77422129 -2.66414614  0.906343  ]\n",
            " [-2.99221253 -1.73231141 -1.54802171  2.98341239  2.65016823  2.57537178  1.84614749  1.05108709 -0.24151434 -2.65181518]\n",
            " [-0.0274576  -1.98010566  2.0680059   0.83011725 -1.08770003  2.86903578  1.09643152 -1.17161531  1.99286034  0.32031369]\n",
            " [-1.94401151 -2.82471687  1.0434553   1.62349176  1.78058124  2.38486342 -2.75563799 -1.42603932  2.87437816  0.93978286]\n",
            " [-2.82466105 -2.83356588 -2.92797838 -0.60437402  2.62382076  2.74593817 -2.46182219 -0.77368855  2.15754576  1.08939904]\n",
            " [ 2.19015855  2.08527482 -1.64439673 -0.54020117 -1.0630927   2.26186235 -0.75982239 -1.31658009  2.83156623  1.64438825]\n",
            " [-2.98597276 -1.42409024 -2.19853395 -2.31459213 -2.69919944  1.67918987 -0.52841842  0.23067827  0.63774998  0.24615531]\n",
            " [-2.12900673  1.40489298 -1.91610246 -0.42039423 -1.25047682  1.20249836  1.64473679 -2.79095572  2.39333735 -1.79683646]\n",
            " [ 1.49451139  2.05888397  1.33570895 -1.58285228 -0.69320888 -2.60842138 -1.23669935  0.13299076  0.33653359  1.25276606]\n",
            " [ 2.91519443  2.70322535  1.50673963  0.69738095  1.84683091  1.9127235  -2.58593988 -2.04838343  1.72026612  2.63460466]\n",
            " [ 0.63842619 -2.91069245  2.55103541  0.68772414 -2.82446628 -0.77570061  1.82009674  2.98394133 -2.6930717   2.76332266]\n",
            " [ 1.21310687 -2.73735092 -0.17231029  1.81417288  0.61688629 -1.88648945 -2.59317456 -0.10168953  0.6700585   0.03173664]\n",
            " [-1.6172141   2.36107821 -2.42777507 -1.325956   -1.90077634  0.22339016  0.39312369 -1.26861857  2.06522902  0.42908992]\n",
            " [ 0.06520319  0.15498223 -0.53198776  0.00965094 -1.97412224 -2.57336203  0.24255457 -0.98321933 -1.74631415 -1.71704562]\n",
            " [ 0.2879831   0.36416495 -0.09667362  0.35628786 -1.20285304  0.8256977   2.03197756 -2.52956087 -2.2418145   1.45862087]\n",
            " [ 2.12042486  1.86431084 -0.59544833  0.44860413  2.74918311 -1.52797644 -2.74278888  2.76327516 -2.39269954 -2.34456678]\n",
            " [-2.51869325 -0.17705655 -2.31687906 -1.43714746  1.15373801  2.31875004 -1.96842091 -0.19024493 -1.56713598  1.4825626 ]\n",
            " [ 0.52135631 -2.89595345  2.41028503  0.60062994  2.02347656 -0.65605675 -2.99601269  1.92530037 -1.2825759   1.10770668]\n",
            " [-1.27364032  0.35087012 -1.9925852  -2.50648262 -2.43544547  1.6235022  -1.92243125 -0.3195787   1.36581686 -2.20363097]\n",
            " [-1.24536291  1.60758759  1.55157279 -0.03970029 -2.00793746 -0.51839277  2.20861184 -0.54566738  1.45278205  1.03708911]\n",
            " [ 1.32155965  2.11525498 -1.15809048 -0.31939726  2.08646307 -1.87539388 -0.08170709 -0.40425706 -0.90741039 -0.78979363]\n",
            " [-2.9554486   0.25754372  0.81429941 -0.81458368 -0.35378124  0.01171514 -1.2142531   2.64283607 -0.11022148  1.68522409]\n",
            " [ 2.13938799 -1.56856957  2.24102279  2.46553019  2.11054812  0.0378534   1.94588218 -2.379218   -0.05712844 -2.59850309]]\n",
            "b_output: [ 1.08955892 -1.64164896  0.97063098  1.15301223  1.96924129  1.41832547 -2.16540876  1.99018803 -1.56055379  1.18656481]\n"
          ]
        }
      ]
    },
    {
      "cell_type": "code",
      "source": [
        "# loss and accuracy\n",
        "loss_values = []\n",
        "acc_values = []\n",
        "\n",
        "lr = 0.5\n",
        "epochs = 50\n",
        "\n",
        "for epoch in range(epochs):\n",
        "  MSE = 0\n",
        "  new_target = np.zeros(target.shape)\n",
        "\n",
        "  for idx, inp in enumerate(input): # feedforward\n",
        "    # hidden layer\n",
        "    o_hidden = np.matmul(input[idx], w_hidden) + b_hidden\n",
        "    o_hidden = sig(o_hidden)\n",
        "\n",
        "    # print('----------------')\n",
        "    # print(f'input[{idx}]:', input[idx], 'w_hidden:', w_hidden, 'b_hidden:', b_hidden)\n",
        "    # print('o_hidden:', o_hidden)\n",
        "    # print('\\n')\n",
        "\n",
        "    # output layer\n",
        "    o_output = np.matmul(o_hidden, w_output)\n",
        "    o_output = sig(o_output)\n",
        "\n",
        "    # print('o_hidden', o_hidden, 'w_output:', w_output, 'b_output:', b_output)\n",
        "    # print('o_output:', o_output)\n",
        "    # print('\\n')\n",
        "\n",
        "    # count error\n",
        "    error = target[idx] - o_output\n",
        "    MSE += ((np.sum(error**2)) / error.shape)\n",
        "\n",
        "    new_target[idx] = o_output.round()\n",
        "    eh = error @ w_output.T # error hidden\n",
        "\n",
        "    # print('error', error)\n",
        "    # print('eh', eh)\n",
        "    # print(f'new_target[{idx}]:', new_target[idx])\n",
        "    # print('\\n')\n",
        "\n",
        "\n",
        "    # backpropagation (using formula for sigmoid func)\n",
        "    w_output = w_output + (lr * (error * o_output * (1 - o_output)) * o_hidden[np.newaxis].T)\n",
        "    b_output = b_output + (lr * (error * o_output * (1 - o_output)))\n",
        "\n",
        "    w_hidden = w_hidden + (lr * (eh * o_hidden * (1 - o_hidden)) * input[idx][np.newaxis].T)\n",
        "    b_hidden = b_hidden + (lr * (eh * o_hidden * (1 - o_hidden)))\n",
        "\n",
        "  MSE = (MSE/input.shape[0])\n",
        "\n",
        "  delta = np.absolute(target - new_target)\n",
        "  acc = 1 - np.average([np.max(m) for m in delta])\n",
        "\n",
        "  loss_values.append(MSE)\n",
        "  acc_values.append(acc)\n",
        "\n",
        "  print('epoch:', epoch, '|', 'error:', MSE, 'acc:', acc)\n",
        "  # print('----------------')\n",
        "  # print('\\n')\n"
      ],
      "metadata": {
        "colab": {
          "base_uri": "https://localhost:8080/"
        },
        "id": "rv9ZZliMPaQG",
        "outputId": "52d5c713-899b-4f8a-badf-a46b1ab7295f"
      },
      "execution_count": 8,
      "outputs": [
        {
          "output_type": "stream",
          "name": "stdout",
          "text": [
            "epoch: 0 | error: [0.09977917] acc: 0.08199999999999996\n",
            "epoch: 1 | error: [0.07375215] acc: 0.19999999999999996\n",
            "epoch: 2 | error: [0.0641719] acc: 0.32199999999999995\n",
            "epoch: 3 | error: [0.05873058] acc: 0.376\n",
            "epoch: 4 | error: [0.05282338] acc: 0.44599999999999995\n",
            "epoch: 5 | error: [0.05054596] acc: 0.482\n",
            "epoch: 6 | error: [0.04481915] acc: 0.54\n",
            "epoch: 7 | error: [0.03688199] acc: 0.6599999999999999\n",
            "epoch: 8 | error: [0.03949209] acc: 0.61\n",
            "epoch: 9 | error: [0.03533457] acc: 0.6659999999999999\n",
            "epoch: 10 | error: [0.03123976] acc: 0.72\n",
            "epoch: 11 | error: [0.02758384] acc: 0.752\n",
            "epoch: 12 | error: [0.02603103] acc: 0.772\n",
            "epoch: 13 | error: [0.0230709] acc: 0.802\n",
            "epoch: 14 | error: [0.02207826] acc: 0.81\n",
            "epoch: 15 | error: [0.02057807] acc: 0.8140000000000001\n",
            "epoch: 16 | error: [0.01724811] acc: 0.85\n",
            "epoch: 17 | error: [0.0154819] acc: 0.868\n",
            "epoch: 18 | error: [0.0139235] acc: 0.882\n",
            "epoch: 19 | error: [0.01351339] acc: 0.888\n",
            "epoch: 20 | error: [0.01413305] acc: 0.874\n",
            "epoch: 21 | error: [0.01407751] acc: 0.878\n",
            "epoch: 22 | error: [0.01499406] acc: 0.862\n",
            "epoch: 23 | error: [0.01209556] acc: 0.902\n",
            "epoch: 24 | error: [0.01076965] acc: 0.912\n",
            "epoch: 25 | error: [0.01189992] acc: 0.908\n",
            "epoch: 26 | error: [0.01162574] acc: 0.9\n",
            "epoch: 27 | error: [0.00998166] acc: 0.916\n",
            "epoch: 28 | error: [0.01381755] acc: 0.874\n",
            "epoch: 29 | error: [0.01012094] acc: 0.918\n",
            "epoch: 30 | error: [0.00879988] acc: 0.9299999999999999\n",
            "epoch: 31 | error: [0.01036949] acc: 0.908\n",
            "epoch: 32 | error: [0.01194357] acc: 0.886\n",
            "epoch: 33 | error: [0.00789457] acc: 0.924\n",
            "epoch: 34 | error: [0.00748303] acc: 0.9319999999999999\n",
            "epoch: 35 | error: [0.0078732] acc: 0.922\n",
            "epoch: 36 | error: [0.0078301] acc: 0.926\n",
            "epoch: 37 | error: [0.00728254] acc: 0.9339999999999999\n",
            "epoch: 38 | error: [0.00693949] acc: 0.938\n",
            "epoch: 39 | error: [0.00645649] acc: 0.94\n",
            "epoch: 40 | error: [0.00641548] acc: 0.944\n",
            "epoch: 41 | error: [0.00682287] acc: 0.9339999999999999\n",
            "epoch: 42 | error: [0.00668446] acc: 0.94\n",
            "epoch: 43 | error: [0.00638963] acc: 0.942\n",
            "epoch: 44 | error: [0.00615551] acc: 0.946\n",
            "epoch: 45 | error: [0.00588049] acc: 0.946\n",
            "epoch: 46 | error: [0.00582154] acc: 0.948\n",
            "epoch: 47 | error: [0.00623568] acc: 0.94\n",
            "epoch: 48 | error: [0.00665853] acc: 0.942\n",
            "epoch: 49 | error: [0.00607317] acc: 0.946\n"
          ]
        }
      ]
    },
    {
      "cell_type": "code",
      "source": [
        "plot1 = plt.figure(1)\n",
        "plt.plot(loss_values)\n",
        "plt.show()\n",
        "\n",
        "plot2 = plt.figure(2)\n",
        "plt.plot(acc_values)\n",
        "plt.show()"
      ],
      "metadata": {
        "colab": {
          "base_uri": "https://localhost:8080/",
          "height": 843
        },
        "id": "MjklFLjOQiSs",
        "outputId": "678edc3b-455f-442d-c28d-34d7c6ea12b1"
      },
      "execution_count": 9,
      "outputs": [
        {
          "output_type": "display_data",
          "data": {
            "text/plain": [
              "<Figure size 640x480 with 1 Axes>"
            ],
            "image/png": "[encoded data removed]"
          },
          "metadata": {}
        },
        {
          "output_type": "display_data",
          "data": {
            "text/plain": [
              "<Figure size 640x480 with 1 Axes>"
            ],
            "image/png": "[encoded data removed]"
          },
          "metadata": {}
        }
      ]
    },
    {
      "cell_type": "code",
      "source": [
        "new_target_test = np.zeros(target.shape)\n",
        "\n",
        "# feedforward\n",
        "for idx, inp in enumerate(input):\n",
        "  o_hidden = np.matmul(input[idx], w_hidden) + b_hidden\n",
        "  o_hidden = sig(o_hidden)\n",
        "\n",
        "  o_output = np.matmul(o_hidden, w_output)\n",
        "  o_output = sig(o_output)\n",
        "\n",
        "  new_target_test[idx] = o_output.round()"
      ],
      "metadata": {
        "id": "C7ZNGhH0RODy"
      },
      "execution_count": 10,
      "outputs": []
    },
    {
      "cell_type": "code",
      "source": [
        "idx_test = 400\n",
        "\n",
        "reshape_input = input.reshape(num_data, 28, 28)\n",
        "print('reshape_input[idx_test]', reshape_input[idx_test])\n",
        "\n",
        "test_target = new_target_test[idx_test]\n",
        "print('test_target', test_target)\n",
        "max_index_row = np.argmax(test_target)\n",
        "print('max_index_row', max_index_row)\n",
        "\n",
        "plt.imshow(reshape_input[idx_test], cmap=plt.get_cmap('gray'))"
      ],
      "metadata": {
        "colab": {
          "base_uri": "https://localhost:8080/",
          "height": 968
        },
        "id": "Vk7RjjS0SKpb",
        "outputId": "37165f4a-497a-495f-cb1a-a447d2cf2763"
      },
      "execution_count": 12,
      "outputs": [
        {
          "output_type": "stream",
          "name": "stdout",
          "text": [
            "reshape_input[idx_test] [[0 0 0 0 0 0 0 0 0 0 0 0 0 0 0 0 0 0 0 0 0 0 0 0 0 0 0 0]\n",
            " [0 0 0 0 0 0 0 0 0 0 0 0 0 0 0 0 0 0 0 0 0 0 0 0 0 0 0 0]\n",
            " [0 0 0 0 0 0 0 0 0 0 0 0 0 0 0 0 0 0 0 0 0 0 0 0 0 0 0 0]\n",
            " [0 0 0 0 0 0 1 1 1 1 1 1 1 1 0 0 0 0 0 0 0 0 0 0 0 0 0 0]\n",
            " [0 0 0 0 0 1 1 1 1 1 1 1 1 1 1 0 0 0 0 0 0 0 0 0 0 0 0 0]\n",
            " [0 0 0 0 0 1 1 1 1 1 1 1 1 1 1 1 1 0 0 0 0 0 0 0 0 0 0 0]\n",
            " [0 0 0 0 0 1 1 1 0 0 0 1 1 1 1 1 1 0 0 0 0 0 0 0 0 0 0 0]\n",
            " [0 0 0 0 0 0 0 0 0 0 0 0 1 1 1 1 1 0 0 0 0 0 0 0 0 0 0 0]\n",
            " [0 0 0 0 0 0 0 0 0 0 0 0 0 1 1 1 1 1 0 0 0 0 0 0 0 0 0 0]\n",
            " [0 0 0 0 0 0 0 0 0 0 0 0 0 1 1 1 1 1 1 0 0 0 0 0 0 0 0 0]\n",
            " [0 0 0 0 0 0 0 0 0 0 0 0 0 0 0 1 1 1 1 0 0 0 0 0 0 0 0 0]\n",
            " [0 0 0 0 0 0 0 0 0 0 0 0 0 0 0 1 1 1 1 0 0 0 0 0 0 0 0 0]\n",
            " [0 0 0 0 0 0 0 0 0 0 1 0 0 0 0 0 1 1 1 0 0 0 0 0 0 0 0 0]\n",
            " [0 0 0 0 0 0 0 0 1 1 1 1 0 0 0 0 1 1 1 0 0 0 0 0 0 0 0 0]\n",
            " [0 0 0 0 0 0 0 0 1 1 1 1 1 0 0 0 1 1 1 0 0 0 0 0 0 0 0 0]\n",
            " [0 0 0 0 0 0 0 0 1 1 1 1 1 0 0 0 1 1 1 0 0 0 0 0 0 0 0 0]\n",
            " [0 0 0 0 0 0 0 0 1 1 1 1 1 1 0 0 1 1 1 0 0 0 0 0 0 0 0 0]\n",
            " [0 0 0 0 0 0 0 0 0 1 1 1 1 1 1 0 1 1 1 0 0 0 0 0 0 0 0 0]\n",
            " [0 0 0 0 0 0 0 0 0 1 1 1 1 1 1 1 1 1 1 0 0 0 0 0 0 0 0 0]\n",
            " [0 0 0 0 0 0 0 0 0 1 1 1 1 1 1 1 1 1 1 0 0 1 1 1 1 0 0 0]\n",
            " [0 0 0 0 0 0 0 0 0 0 1 1 1 1 1 1 1 1 1 1 1 1 1 1 1 0 0 0]\n",
            " [0 0 0 0 0 0 0 0 0 0 0 1 1 1 1 1 1 1 1 1 1 1 1 1 1 0 0 0]\n",
            " [0 0 0 0 0 0 0 0 0 0 0 1 1 1 1 0 1 1 1 1 1 1 1 0 0 0 0 0]\n",
            " [0 0 0 0 0 0 0 0 0 0 0 0 0 0 0 0 0 0 0 0 0 0 0 0 0 0 0 0]\n",
            " [0 0 0 0 0 0 0 0 0 0 0 0 0 0 0 0 0 0 0 0 0 0 0 0 0 0 0 0]\n",
            " [0 0 0 0 0 0 0 0 0 0 0 0 0 0 0 0 0 0 0 0 0 0 0 0 0 0 0 0]\n",
            " [0 0 0 0 0 0 0 0 0 0 0 0 0 0 0 0 0 0 0 0 0 0 0 0 0 0 0 0]\n",
            " [0 0 0 0 0 0 0 0 0 0 0 0 0 0 0 0 0 0 0 0 0 0 0 0 0 0 0 0]]\n",
            "test_target [0. 0. 1. 0. 0. 0. 0. 0. 0. 0.]\n",
            "max_index_row 2\n"
          ]
        },
        {
          "output_type": "execute_result",
          "data": {
            "text/plain": [
              "<matplotlib.image.AxesImage at 0x7cbfa97ab5b0>"
            ]
          },
          "metadata": {},
          "execution_count": 12
        },
        {
          "output_type": "display_data",
          "data": {
            "text/plain": [
              "<Figure size 640x480 with 1 Axes>"
            ],
            "image/png": "[encoded data removed]"
          },
          "metadata": {}
        }
      ]
    }
  ],
  "metadata": {
    "colab": {
      "provenance": []
    },
    "kernelspec": {
      "display_name": "Python 3",
      "name": "python3"
    },
    "language_info": {
      "name": "python"
    }
  },
  "nbformat": 4,
  "nbformat_minor": 0
}