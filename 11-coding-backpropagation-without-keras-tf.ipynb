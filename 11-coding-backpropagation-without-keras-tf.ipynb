{
  "cells": [
    {
      "cell_type": "code",
      "source": [
        "import numpy as np\n",
        "import math\n",
        "import matplotlib.pyplot as plt\n",
        "\n",
        "# input\n",
        "input = np.array([\n",
        "    [1,1],\n",
        "    [1,0],\n",
        "    [0,1],\n",
        "    [0,0],\n",
        "])\n",
        "\n",
        "# output\n",
        "target = np.array([1,0,0,0])"
      ],
      "metadata": {
        "id": "f7xjpZmhM6PG"
      },
      "execution_count": 84,
      "outputs": []
    },
    {
      "cell_type": "code",
      "source": [
        "# config\n",
        "num_input = 2\n",
        "num_hidden = 5\n",
        "num_output = 1\n",
        "\n",
        "# sigmoid func\n",
        "def sigmoid(x):\n",
        "  return 1/(1 + math.exp(-x))\n",
        "\n",
        "sig = np.vectorize(sigmoid)"
      ],
      "metadata": {
        "id": "lNBgbkuMPjAs"
      },
      "execution_count": 85,
      "outputs": []
    },
    {
      "cell_type": "code",
      "source": [
        "# initialize weight and bias\n",
        "\n",
        "b_hidden = np.random.uniform(low=-3, high=3, size=(num_hidden))\n",
        "w_hidden = np.random.uniform(low=-3, high=3, size=(num_input, num_hidden))\n",
        "\n",
        "print('w_hidden:', w_hidden)\n",
        "print('b_hidden:', b_hidden)\n",
        "print('\\n')\n",
        "\n",
        "b_output = np.random.uniform(low=-3, high=3, size=(num_output))\n",
        "w_output = np.random.uniform(low=-3, high=3, size=(num_hidden, num_output))\n",
        "\n",
        "print('w_output:', w_output)\n",
        "print('b_output:', b_output)"
      ],
      "metadata": {
        "colab": {
          "base_uri": "https://localhost:8080/"
        },
        "id": "4PBVj_KJQyTK",
        "outputId": "c792855b-004b-4d17-9350-a27d9cfb3948"
      },
      "execution_count": 86,
      "outputs": [
        {
          "output_type": "stream",
          "name": "stdout",
          "text": [
            "w_hidden: [[-1.30103586  1.72216717 -1.50226785  0.09372265  1.05485678]\n",
            " [ 2.18515416  2.00876974 -2.61415131 -1.08520796  1.74629174]]\n",
            "b_hidden: [-2.87651981 -0.69018596  1.7570895   1.63948399 -1.07253688]\n",
            "\n",
            "\n",
            "w_output: [[-0.9354688 ]\n",
            " [-0.41668922]\n",
            " [ 1.59585998]\n",
            " [-0.26768599]\n",
            " [ 1.05975709]]\n",
            "b_output: [0.42784752]\n"
          ]
        }
      ]
    },
    {
      "cell_type": "code",
      "source": [
        "# loss and accuracy\n",
        "loss_values = []\n",
        "acc_values = []\n",
        "\n",
        "lr = 0.5\n",
        "epochs = 50\n",
        "\n",
        "for epoch in range(epochs):\n",
        "  MSE = 0\n",
        "  new_target = np.zeros(4)\n",
        "\n",
        "  for idx, inp in enumerate(input): # feedforward\n",
        "    # hidden layer\n",
        "    o_hidden = np.matmul(input[idx], w_hidden) + b_hidden\n",
        "    o_hidden = sig(o_hidden)\n",
        "\n",
        "    # print('----------------')\n",
        "    # print(f'input[{idx}]:', input[idx], 'w_hidden:', w_hidden, 'b_hidden:', b_hidden)\n",
        "    # print('o_hidden:', o_hidden)\n",
        "    # print('\\n')\n",
        "\n",
        "    # output layer\n",
        "    o_output = np.matmul(o_hidden, w_output)\n",
        "    o_output = sig(o_output)\n",
        "\n",
        "    # print('o_hidden', o_hidden, 'w_output:', w_output, 'b_output:', b_output)\n",
        "    # print('o_output:', o_output)\n",
        "    # print('\\n')\n",
        "\n",
        "    # count error\n",
        "    error = target[idx] - o_output\n",
        "    MSE += (error*error)\n",
        "\n",
        "    new_target[idx] = o_output.round()\n",
        "    eh = error @ w_output.T # error hidden\n",
        "\n",
        "    # print('error', error)\n",
        "    # print('eh', eh)\n",
        "    # print(f'new_target[{idx}]:', new_target[idx])\n",
        "    # print('\\n')\n",
        "\n",
        "\n",
        "    # backpropagation (using formula for sigmoid func)\n",
        "    w_output = w_output + (lr * (error * o_output * (1 - o_output)) * o_hidden[np.newaxis].T)\n",
        "    b_output = b_output + (lr * (error * o_output * (1 - o_output)))\n",
        "\n",
        "    w_hidden = w_hidden + (lr * (eh * o_hidden * (1 - o_hidden)) * input[idx][np.newaxis].T)\n",
        "    b_hidden = b_hidden + (lr * (eh * o_hidden * (1 - o_hidden)))\n",
        "\n",
        "  MSE = MSE/4\n",
        "  acc = 1 - (np.sum(np.absolute(target - new_target))/4)\n",
        "\n",
        "  loss_values.append(MSE)\n",
        "  acc_values.append(acc)\n",
        "\n",
        "  print('epoch:', epoch, '|', 'error:', MSE, 'acc:', acc)\n",
        "  # print('----------------')\n",
        "  # print('\\n')\n"
      ],
      "metadata": {
        "colab": {
          "base_uri": "https://localhost:8080/"
        },
        "id": "rdI9h9stQ1vy",
        "outputId": "102c1ce1-8424-4f20-8c37-28b4124ed22d"
      },
      "execution_count": 87,
      "outputs": [
        {
          "output_type": "stream",
          "name": "stdout",
          "text": [
            "epoch: 0 | error: [0.39279193] acc: 0.25\n",
            "epoch: 1 | error: [0.32836246] acc: 0.5\n",
            "epoch: 2 | error: [0.28392941] acc: 0.25\n",
            "epoch: 3 | error: [0.25476702] acc: 0.5\n",
            "epoch: 4 | error: [0.23502926] acc: 0.5\n",
            "epoch: 5 | error: [0.22080964] acc: 0.75\n",
            "epoch: 6 | error: [0.2098476] acc: 0.75\n",
            "epoch: 7 | error: [0.20084739] acc: 0.75\n",
            "epoch: 8 | error: [0.1930478] acc: 0.75\n",
            "epoch: 9 | error: [0.18599245] acc: 0.75\n",
            "epoch: 10 | error: [0.17940854] acc: 0.75\n",
            "epoch: 11 | error: [0.17314031] acc: 0.75\n",
            "epoch: 12 | error: [0.16710914] acc: 0.75\n",
            "epoch: 13 | error: [0.16128619] acc: 0.75\n",
            "epoch: 14 | error: [0.15567142] acc: 0.75\n",
            "epoch: 15 | error: [0.15027724] acc: 0.75\n",
            "epoch: 16 | error: [0.14511685] acc: 0.75\n",
            "epoch: 17 | error: [0.14019774] acc: 0.75\n",
            "epoch: 18 | error: [0.13551938] acc: 0.75\n",
            "epoch: 19 | error: [0.13107393] acc: 0.75\n",
            "epoch: 20 | error: [0.12684831] acc: 0.75\n",
            "epoch: 21 | error: [0.12282643] acc: 0.75\n",
            "epoch: 22 | error: [0.11899113] acc: 0.75\n",
            "epoch: 23 | error: [0.11532559] acc: 0.75\n",
            "epoch: 24 | error: [0.11181411] acc: 0.75\n",
            "epoch: 25 | error: [0.10844258] acc: 0.75\n",
            "epoch: 26 | error: [0.1051986] acc: 0.75\n",
            "epoch: 27 | error: [0.10207152] acc: 1.0\n",
            "epoch: 28 | error: [0.09905224] acc: 1.0\n",
            "epoch: 29 | error: [0.0961331] acc: 1.0\n",
            "epoch: 30 | error: [0.09330765] acc: 1.0\n",
            "epoch: 31 | error: [0.09057053] acc: 1.0\n",
            "epoch: 32 | error: [0.08791722] acc: 1.0\n",
            "epoch: 33 | error: [0.08534395] acc: 1.0\n",
            "epoch: 34 | error: [0.08284751] acc: 1.0\n",
            "epoch: 35 | error: [0.08042518] acc: 1.0\n",
            "epoch: 36 | error: [0.07807462] acc: 1.0\n",
            "epoch: 37 | error: [0.07579377] acc: 1.0\n",
            "epoch: 38 | error: [0.07358078] acc: 1.0\n",
            "epoch: 39 | error: [0.07143399] acc: 1.0\n",
            "epoch: 40 | error: [0.06935185] acc: 1.0\n",
            "epoch: 41 | error: [0.06733289] acc: 1.0\n",
            "epoch: 42 | error: [0.06537571] acc: 1.0\n",
            "epoch: 43 | error: [0.06347895] acc: 1.0\n",
            "epoch: 44 | error: [0.06164125] acc: 1.0\n",
            "epoch: 45 | error: [0.05986129] acc: 1.0\n",
            "epoch: 46 | error: [0.05813773] acc: 1.0\n",
            "epoch: 47 | error: [0.05646924] acc: 1.0\n",
            "epoch: 48 | error: [0.05485447] acc: 1.0\n",
            "epoch: 49 | error: [0.05329207] acc: 1.0\n"
          ]
        }
      ]
    },
    {
      "cell_type": "code",
      "source": [
        "plot1 = plt.figure(1)\n",
        "plt.plot(loss_values)\n",
        "plt.show()\n",
        "\n",
        "plot2 = plt.figure(2)\n",
        "plt.plot(acc_values)\n",
        "plt.show()"
      ],
      "metadata": {
        "colab": {
          "base_uri": "https://localhost:8080/",
          "height": 843
        },
        "id": "7GkqCIzcRk6H",
        "outputId": "db2107c3-4a7d-48b2-8533-9292189a135b"
      },
      "execution_count": 88,
      "outputs": [
        {
          "output_type": "display_data",
          "data": {
            "text/plain": [
              "<Figure size 640x480 with 1 Axes>"
            ],
            "image/png": "[encoded data removed]"
          },
          "metadata": {}
        },
        {
          "output_type": "display_data",
          "data": {
            "text/plain": [
              "<Figure size 640x480 with 1 Axes>"
            ],
            "image/png": "[encoded data removed]"
          },
          "metadata": {}
        }
      ]
    }
  ],
  "metadata": {
    "colab": {
      "provenance": []
    },
    "kernelspec": {
      "display_name": "Python 3",
      "name": "python3"
    },
    "language_info": {
      "name": "python"
    }
  },
  "nbformat": 4,
  "nbformat_minor": 0
}